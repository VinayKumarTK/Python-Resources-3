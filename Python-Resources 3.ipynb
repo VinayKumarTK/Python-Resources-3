{
 "cells": [
  {
   "cell_type": "code",
   "execution_count": 1,
   "metadata": {},
   "outputs": [],
   "source": [
    "a=419"
   ]
  },
  {
   "cell_type": "code",
   "execution_count": 3,
   "metadata": {},
   "outputs": [],
   "source": [
    "b='Vinay Kumar T K'"
   ]
  },
  {
   "cell_type": "code",
   "execution_count": 4,
   "metadata": {},
   "outputs": [
    {
     "data": {
      "text/plain": [
       "'Vinay Kumar T K1'"
      ]
     },
     "execution_count": 4,
     "metadata": {},
     "output_type": "execute_result"
    }
   ],
   "source": [
    "\n",
    "b+'1'"
   ]
  },
  {
   "cell_type": "code",
   "execution_count": 5,
   "metadata": {},
   "outputs": [
    {
     "data": {
      "text/plain": [
       "'Vinay Kumar T K1'"
      ]
     },
     "execution_count": 5,
     "metadata": {},
     "output_type": "execute_result"
    }
   ],
   "source": [
    "b+\"1\""
   ]
  },
  {
   "cell_type": "code",
   "execution_count": 7,
   "metadata": {},
   "outputs": [
    {
     "data": {
      "text/plain": [
       "'Vinay Kumar T K2'"
      ]
     },
     "execution_count": 7,
     "metadata": {},
     "output_type": "execute_result"
    }
   ],
   "source": [
    "b+str(2)"
   ]
  },
  {
   "cell_type": "code",
   "execution_count": 8,
   "metadata": {},
   "outputs": [
    {
     "data": {
      "text/plain": [
       "str"
      ]
     },
     "execution_count": 8,
     "metadata": {},
     "output_type": "execute_result"
    }
   ],
   "source": [
    "type(b)"
   ]
  },
  {
   "cell_type": "code",
   "execution_count": 10,
   "metadata": {},
   "outputs": [
    {
     "data": {
      "text/plain": [
       "'Sangeetha15646146'"
      ]
     },
     "execution_count": 10,
     "metadata": {},
     "output_type": "execute_result"
    }
   ],
   "source": [
    "\"Sangeetha\"+'15646146'"
   ]
  },
  {
   "cell_type": "code",
   "execution_count": 11,
   "metadata": {},
   "outputs": [
    {
     "data": {
      "text/plain": [
       "'Vinay Kumar T K'"
      ]
     },
     "execution_count": 11,
     "metadata": {},
     "output_type": "execute_result"
    }
   ],
   "source": [
    "b"
   ]
  },
  {
   "cell_type": "code",
   "execution_count": 12,
   "metadata": {},
   "outputs": [
    {
     "data": {
      "text/plain": [
       "15"
      ]
     },
     "execution_count": 12,
     "metadata": {},
     "output_type": "execute_result"
    }
   ],
   "source": [
    "len(b)"
   ]
  },
  {
   "cell_type": "code",
   "execution_count": 54,
   "metadata": {},
   "outputs": [],
   "source": [
    "c=\"Sangeetha\""
   ]
  },
  {
   "cell_type": "code",
   "execution_count": 14,
   "metadata": {},
   "outputs": [
    {
     "data": {
      "text/plain": [
       "9"
      ]
     },
     "execution_count": 14,
     "metadata": {},
     "output_type": "execute_result"
    }
   ],
   "source": [
    "len(c)"
   ]
  },
  {
   "cell_type": "code",
   "execution_count": 15,
   "metadata": {},
   "outputs": [
    {
     "data": {
      "text/plain": [
       "'Vinay Kumar T KVinay Kumar T K'"
      ]
     },
     "execution_count": 15,
     "metadata": {},
     "output_type": "execute_result"
    }
   ],
   "source": [
    "b*2"
   ]
  },
  {
   "cell_type": "code",
   "execution_count": 16,
   "metadata": {},
   "outputs": [
    {
     "data": {
      "text/plain": [
       "'SangeethaSangeethaSangeetha'"
      ]
     },
     "execution_count": 16,
     "metadata": {},
     "output_type": "execute_result"
    }
   ],
   "source": [
    "c*3"
   ]
  },
  {
   "cell_type": "code",
   "execution_count": 23,
   "metadata": {},
   "outputs": [
    {
     "data": {
      "text/plain": [
       "1"
      ]
     },
     "execution_count": 23,
     "metadata": {},
     "output_type": "execute_result"
    }
   ],
   "source": [
    "b.count('Vi')"
   ]
  },
  {
   "cell_type": "code",
   "execution_count": 25,
   "metadata": {},
   "outputs": [
    {
     "data": {
      "text/plain": [
       "1"
      ]
     },
     "execution_count": 25,
     "metadata": {},
     "output_type": "execute_result"
    }
   ],
   "source": [
    "c.count('Sa')"
   ]
  },
  {
   "cell_type": "code",
   "execution_count": 30,
   "metadata": {},
   "outputs": [
    {
     "data": {
      "text/plain": [
       "['Vinay K', 'mar T K']"
      ]
     },
     "execution_count": 30,
     "metadata": {},
     "output_type": "execute_result"
    }
   ],
   "source": [
    "b.split('u')"
   ]
  },
  {
   "cell_type": "code",
   "execution_count": 28,
   "metadata": {},
   "outputs": [
    {
     "data": {
      "text/plain": [
       "list"
      ]
     },
     "execution_count": 28,
     "metadata": {},
     "output_type": "execute_result"
    }
   ],
   "source": [
    "type(b.split('u'))"
   ]
  },
  {
   "cell_type": "code",
   "execution_count": 27,
   "metadata": {},
   "outputs": [
    {
     "data": {
      "text/plain": [
       "str"
      ]
     },
     "execution_count": 27,
     "metadata": {},
     "output_type": "execute_result"
    }
   ],
   "source": [
    "type(b)"
   ]
  },
  {
   "cell_type": "code",
   "execution_count": 17,
   "metadata": {},
   "outputs": [],
   "source": [
    "sw= \"\"\"The Samsung Group[3] (or simply Samsung, stylized as SΛMSUNG) (Korean: 삼성 [samsʌŋ]) is a South Korean multinational manufacturing conglomerate headquartered in Samsung Town, Seoul, South Korea.[1] It comprises numerous affiliated businesses,[1] most of them united under the Samsung brand, and is the largest South Korean chaebol (business conglomerate). As of 2020, Samsung has the 8th highest global brand value.[4]\n",
    "\n",
    "Samsung was founded by Lee Byung-chul in 1938 as a trading company. Over the next three decades, the group diversified into areas including food processing, textiles, insurance, securities, and retail. Samsung entered the electronics industry in the late 1960s and the construction and shipbuilding industries in the mid-1970s; these areas would drive its subsequent growth. Following Lee's death in 1987, Samsung was separated into five business groups – Samsung Group, Shinsegae Group, CJ Group and Hansol Group, and Joongang Group.\n",
    "\n",
    "Notable Samsung industrial affiliates include Samsung Electronics (the world's largest information technology company, consumer electronics maker and chipmaker measured by 2017 revenues),[5][6] Samsung Heavy Industries (the world's 2nd largest shipbuilder measured by 2010 revenues),[7] and Samsung Engineering and Samsung C&T Corporation (respectively the world's 13th and 36th largest construction companies).[8] Other notable subsidiaries include Samsung Life Insurance (the world's 14th largest life insurance company),[9] Samsung Everland (operator of Everland Resort, the oldest theme park in South Korea)[10] and Cheil Worldwide (the world's 15th largest advertising agency, as measured by 2012 revenues).[11][12]\"\"\""
   ]
  },
  {
   "cell_type": "code",
   "execution_count": 18,
   "metadata": {},
   "outputs": [
    {
     "data": {
      "text/plain": [
       "\"The Samsung Group[3] (or simply Samsung, stylized as SΛMSUNG) (Korean: 삼성 [samsʌŋ]) is a South Korean multinational manufacturing conglomerate headquartered in Samsung Town, Seoul, South Korea.[1] It comprises numerous affiliated businesses,[1] most of them united under the Samsung brand, and is the largest South Korean chaebol (business conglomerate). As of 2020, Samsung has the 8th highest global brand value.[4]\\n\\nSamsung was founded by Lee Byung-chul in 1938 as a trading company. Over the next three decades, the group diversified into areas including food processing, textiles, insurance, securities, and retail. Samsung entered the electronics industry in the late 1960s and the construction and shipbuilding industries in the mid-1970s; these areas would drive its subsequent growth. Following Lee's death in 1987, Samsung was separated into five business groups – Samsung Group, Shinsegae Group, CJ Group and Hansol Group, and Joongang Group.\\n\\nNotable Samsung industrial affiliates include Samsung Electronics (the world's largest information technology company, consumer electronics maker and chipmaker measured by 2017 revenues),[5][6] Samsung Heavy Industries (the world's 2nd largest shipbuilder measured by 2010 revenues),[7] and Samsung Engineering and Samsung C&T Corporation (respectively the world's 13th and 36th largest construction companies).[8] Other notable subsidiaries include Samsung Life Insurance (the world's 14th largest life insurance company),[9] Samsung Everland (operator of Everland Resort, the oldest theme park in South Korea)[10] and Cheil Worldwide (the world's 15th largest advertising agency, as measured by 2012 revenues).[11][12]\""
      ]
     },
     "execution_count": 18,
     "metadata": {},
     "output_type": "execute_result"
    }
   ],
   "source": [
    "sw"
   ]
  },
  {
   "cell_type": "code",
   "execution_count": 19,
   "metadata": {},
   "outputs": [
    {
     "data": {
      "text/plain": [
       "['The',\n",
       " 'Samsung',\n",
       " 'Group[3]',\n",
       " '(or',\n",
       " 'simply',\n",
       " 'Samsung,',\n",
       " 'stylized',\n",
       " 'as',\n",
       " 'SΛMSUNG)',\n",
       " '(Korean:',\n",
       " '삼성',\n",
       " '[samsʌŋ])',\n",
       " 'is',\n",
       " 'a',\n",
       " 'South',\n",
       " 'Korean',\n",
       " 'multinational',\n",
       " 'manufacturing',\n",
       " 'conglomerate',\n",
       " 'headquartered',\n",
       " 'in',\n",
       " 'Samsung',\n",
       " 'Town,',\n",
       " 'Seoul,',\n",
       " 'South',\n",
       " 'Korea.[1]',\n",
       " 'It',\n",
       " 'comprises',\n",
       " 'numerous',\n",
       " 'affiliated',\n",
       " 'businesses,[1]',\n",
       " 'most',\n",
       " 'of',\n",
       " 'them',\n",
       " 'united',\n",
       " 'under',\n",
       " 'the',\n",
       " 'Samsung',\n",
       " 'brand,',\n",
       " 'and',\n",
       " 'is',\n",
       " 'the',\n",
       " 'largest',\n",
       " 'South',\n",
       " 'Korean',\n",
       " 'chaebol',\n",
       " '(business',\n",
       " 'conglomerate).',\n",
       " 'As',\n",
       " 'of',\n",
       " '2020,',\n",
       " 'Samsung',\n",
       " 'has',\n",
       " 'the',\n",
       " '8th',\n",
       " 'highest',\n",
       " 'global',\n",
       " 'brand',\n",
       " 'value.[4]\\n\\nSamsung',\n",
       " 'was',\n",
       " 'founded',\n",
       " 'by',\n",
       " 'Lee',\n",
       " 'Byung-chul',\n",
       " 'in',\n",
       " '1938',\n",
       " 'as',\n",
       " 'a',\n",
       " 'trading',\n",
       " 'company.',\n",
       " 'Over',\n",
       " 'the',\n",
       " 'next',\n",
       " 'three',\n",
       " 'decades,',\n",
       " 'the',\n",
       " 'group',\n",
       " 'diversified',\n",
       " 'into',\n",
       " 'areas',\n",
       " 'including',\n",
       " 'food',\n",
       " 'processing,',\n",
       " 'textiles,',\n",
       " 'insurance,',\n",
       " 'securities,',\n",
       " 'and',\n",
       " 'retail.',\n",
       " 'Samsung',\n",
       " 'entered',\n",
       " 'the',\n",
       " 'electronics',\n",
       " 'industry',\n",
       " 'in',\n",
       " 'the',\n",
       " 'late',\n",
       " '1960s',\n",
       " 'and',\n",
       " 'the',\n",
       " 'construction',\n",
       " 'and',\n",
       " 'shipbuilding',\n",
       " 'industries',\n",
       " 'in',\n",
       " 'the',\n",
       " 'mid-1970s;',\n",
       " 'these',\n",
       " 'areas',\n",
       " 'would',\n",
       " 'drive',\n",
       " 'its',\n",
       " 'subsequent',\n",
       " 'growth.',\n",
       " 'Following',\n",
       " \"Lee's\",\n",
       " 'death',\n",
       " 'in',\n",
       " '1987,',\n",
       " 'Samsung',\n",
       " 'was',\n",
       " 'separated',\n",
       " 'into',\n",
       " 'five',\n",
       " 'business',\n",
       " 'groups',\n",
       " '–',\n",
       " 'Samsung',\n",
       " 'Group,',\n",
       " 'Shinsegae',\n",
       " 'Group,',\n",
       " 'CJ',\n",
       " 'Group',\n",
       " 'and',\n",
       " 'Hansol',\n",
       " 'Group,',\n",
       " 'and',\n",
       " 'Joongang',\n",
       " 'Group.\\n\\nNotable',\n",
       " 'Samsung',\n",
       " 'industrial',\n",
       " 'affiliates',\n",
       " 'include',\n",
       " 'Samsung',\n",
       " 'Electronics',\n",
       " '(the',\n",
       " \"world's\",\n",
       " 'largest',\n",
       " 'information',\n",
       " 'technology',\n",
       " 'company,',\n",
       " 'consumer',\n",
       " 'electronics',\n",
       " 'maker',\n",
       " 'and',\n",
       " 'chipmaker',\n",
       " 'measured',\n",
       " 'by',\n",
       " '2017',\n",
       " 'revenues),[5][6]',\n",
       " 'Samsung',\n",
       " 'Heavy',\n",
       " 'Industries',\n",
       " '(the',\n",
       " \"world's\",\n",
       " '2nd',\n",
       " 'largest',\n",
       " 'shipbuilder',\n",
       " 'measured',\n",
       " 'by',\n",
       " '2010',\n",
       " 'revenues),[7]',\n",
       " 'and',\n",
       " 'Samsung',\n",
       " 'Engineering',\n",
       " 'and',\n",
       " 'Samsung',\n",
       " 'C&T',\n",
       " 'Corporation',\n",
       " '(respectively',\n",
       " 'the',\n",
       " \"world's\",\n",
       " '13th',\n",
       " 'and',\n",
       " '36th',\n",
       " 'largest',\n",
       " 'construction',\n",
       " 'companies).[8]',\n",
       " 'Other',\n",
       " 'notable',\n",
       " 'subsidiaries',\n",
       " 'include',\n",
       " 'Samsung',\n",
       " 'Life',\n",
       " 'Insurance',\n",
       " '(the',\n",
       " \"world's\",\n",
       " '14th',\n",
       " 'largest',\n",
       " 'life',\n",
       " 'insurance',\n",
       " 'company),[9]',\n",
       " 'Samsung',\n",
       " 'Everland',\n",
       " '(operator',\n",
       " 'of',\n",
       " 'Everland',\n",
       " 'Resort,',\n",
       " 'the',\n",
       " 'oldest',\n",
       " 'theme',\n",
       " 'park',\n",
       " 'in',\n",
       " 'South',\n",
       " 'Korea)[10]',\n",
       " 'and',\n",
       " 'Cheil',\n",
       " 'Worldwide',\n",
       " '(the',\n",
       " \"world's\",\n",
       " '15th',\n",
       " 'largest',\n",
       " 'advertising',\n",
       " 'agency,',\n",
       " 'as',\n",
       " 'measured',\n",
       " 'by',\n",
       " '2012',\n",
       " 'revenues).[11][12]']"
      ]
     },
     "execution_count": 19,
     "metadata": {},
     "output_type": "execute_result"
    }
   ],
   "source": [
    "sw .split(' ')"
   ]
  },
  {
   "cell_type": "code",
   "execution_count": 20,
   "metadata": {},
   "outputs": [
    {
     "data": {
      "text/plain": [
       "\"The Samsung Group[3] (or simply Samsung, stylized as SΛMSUNG) (Korean: 삼성 [samsʌŋ]) is a South Korean multinational manufacturing conglomerate headquartered in Samsung Town, Seoul, South Korea.[1] It comprises numerous affiliated businesses,[1] most of them united under the Samsung brand, and is the largest South Korean chaebol (business conglomerate). As of 2020, Samsung has the 8th highest global brand value.[4]\\n\\nSamsung was founded by Lee Byung-chul in 1938 as a trading company. Over the next three decades, the group diversified into areas including food processing, textiles, insurance, securities, and retail. Samsung entered the electronics industry in the late 1960s and the construction and shipbuilding industries in the mid-1970s; these areas would drive its subsequent growth. Following Lee's death in 1987, Samsung was separated into five business groups – Samsung Group, Shinsegae Group, CJ Group and Hansol Group, and Joongang Group.\\n\\nNotable Samsung industrial affiliates include Samsung Electronics (the world's largest information technology company, consumer electronics maker and chipmaker measured by 2017 revenues),[5][6] Samsung Heavy Industries (the world's 2nd largest shipbuilder measured by 2010 revenues),[7] and Samsung Engineering and Samsung C&T Corporation (respectively the world's 13th and 36th largest construction companies).[8] Other notable subsidiaries include Samsung Life Insurance (the world's 14th largest life insurance company),[9] Samsung Everland (operator of Everland Resort, the oldest theme park in South Korea)[10] and Cheil Worldwide (the world's 15th largest advertising agency, as measured by 2012 revenues).[11][12]\""
      ]
     },
     "execution_count": 20,
     "metadata": {},
     "output_type": "execute_result"
    }
   ],
   "source": [
    "sw"
   ]
  },
  {
   "cell_type": "code",
   "execution_count": 22,
   "metadata": {},
   "outputs": [
    {
     "data": {
      "text/plain": [
       "['The',\n",
       " 'Samsung',\n",
       " 'Group[3]',\n",
       " '(or',\n",
       " 'simply',\n",
       " 'Samsung,',\n",
       " 'stylized',\n",
       " 'as',\n",
       " 'SΛMSUNG)',\n",
       " '(Korean:',\n",
       " '삼성',\n",
       " '[samsʌŋ])',\n",
       " 'is',\n",
       " 'a',\n",
       " 'South',\n",
       " 'Korean',\n",
       " 'multinational',\n",
       " 'manufacturing',\n",
       " 'conglomerate',\n",
       " 'headquartered',\n",
       " 'in',\n",
       " 'Samsung',\n",
       " 'Town,',\n",
       " 'Seoul,',\n",
       " 'South',\n",
       " 'Korea.[1]',\n",
       " 'It',\n",
       " 'comprises',\n",
       " 'numerous',\n",
       " 'affiliated',\n",
       " 'businesses,[1]',\n",
       " 'most',\n",
       " 'of',\n",
       " 'them',\n",
       " 'united',\n",
       " 'under',\n",
       " 'the',\n",
       " 'Samsung',\n",
       " 'brand,',\n",
       " 'and',\n",
       " 'is',\n",
       " 'the',\n",
       " 'largest',\n",
       " 'South',\n",
       " 'Korean',\n",
       " 'chaebol',\n",
       " '(business',\n",
       " 'conglomerate).',\n",
       " 'As',\n",
       " 'of',\n",
       " '2020,',\n",
       " 'Samsung',\n",
       " 'has',\n",
       " 'the',\n",
       " '8th',\n",
       " 'highest',\n",
       " 'global',\n",
       " 'brand',\n",
       " 'value.[4]\\n\\nSamsung',\n",
       " 'was',\n",
       " 'founded',\n",
       " 'by',\n",
       " 'Lee',\n",
       " 'Byung-chul',\n",
       " 'in',\n",
       " '1938',\n",
       " 'as',\n",
       " 'a',\n",
       " 'trading',\n",
       " 'company.',\n",
       " 'Over',\n",
       " 'the',\n",
       " 'next',\n",
       " 'three',\n",
       " 'decades,',\n",
       " 'the',\n",
       " 'group',\n",
       " 'diversified',\n",
       " 'into',\n",
       " 'areas',\n",
       " 'including',\n",
       " 'food',\n",
       " 'processing,',\n",
       " 'textiles,',\n",
       " 'insurance,',\n",
       " 'securities,',\n",
       " 'and',\n",
       " 'retail.',\n",
       " 'Samsung',\n",
       " 'entered',\n",
       " 'the',\n",
       " 'electronics',\n",
       " 'industry',\n",
       " 'in',\n",
       " 'the',\n",
       " 'late',\n",
       " '1960s',\n",
       " 'and',\n",
       " 'the',\n",
       " 'construction',\n",
       " 'and',\n",
       " 'shipbuilding',\n",
       " 'industries',\n",
       " 'in',\n",
       " 'the',\n",
       " 'mid-1970s;',\n",
       " 'these',\n",
       " 'areas',\n",
       " 'would',\n",
       " 'drive',\n",
       " 'its',\n",
       " 'subsequent',\n",
       " 'growth.',\n",
       " 'Following',\n",
       " \"Lee's\",\n",
       " 'death',\n",
       " 'in',\n",
       " '1987,',\n",
       " 'Samsung',\n",
       " 'was',\n",
       " 'separated',\n",
       " 'into',\n",
       " 'five',\n",
       " 'business',\n",
       " 'groups',\n",
       " '–',\n",
       " 'Samsung',\n",
       " 'Group,',\n",
       " 'Shinsegae',\n",
       " 'Group,',\n",
       " 'CJ',\n",
       " 'Group',\n",
       " 'and',\n",
       " 'Hansol',\n",
       " 'Group,',\n",
       " 'and',\n",
       " 'Joongang',\n",
       " 'Group.\\n\\nNotable',\n",
       " 'Samsung',\n",
       " 'industrial',\n",
       " 'affiliates',\n",
       " 'include',\n",
       " 'Samsung',\n",
       " 'Electronics',\n",
       " '(the',\n",
       " \"world's\",\n",
       " 'largest',\n",
       " 'information',\n",
       " 'technology',\n",
       " 'company,',\n",
       " 'consumer',\n",
       " 'electronics',\n",
       " 'maker',\n",
       " 'and',\n",
       " 'chipmaker',\n",
       " 'measured',\n",
       " 'by',\n",
       " '2017',\n",
       " 'revenues),[5][6]',\n",
       " 'Samsung',\n",
       " 'Heavy',\n",
       " 'Industries',\n",
       " '(the',\n",
       " \"world's\",\n",
       " '2nd',\n",
       " 'largest',\n",
       " 'shipbuilder',\n",
       " 'measured',\n",
       " 'by',\n",
       " '2010',\n",
       " 'revenues),[7]',\n",
       " 'and',\n",
       " 'Samsung',\n",
       " 'Engineering',\n",
       " 'and',\n",
       " 'Samsung',\n",
       " 'C&T',\n",
       " 'Corporation',\n",
       " '(respectively',\n",
       " 'the',\n",
       " \"world's\",\n",
       " '13th',\n",
       " 'and',\n",
       " '36th',\n",
       " 'largest',\n",
       " 'construction',\n",
       " 'companies).[8]',\n",
       " 'Other',\n",
       " 'notable',\n",
       " 'subsidiaries',\n",
       " 'include',\n",
       " 'Samsung',\n",
       " 'Life',\n",
       " 'Insurance',\n",
       " '(the',\n",
       " \"world's\",\n",
       " '14th',\n",
       " 'largest',\n",
       " 'life',\n",
       " 'insurance',\n",
       " 'company),[9]',\n",
       " 'Samsung',\n",
       " 'Everland',\n",
       " '(operator',\n",
       " 'of',\n",
       " 'Everland',\n",
       " 'Resort,',\n",
       " 'the',\n",
       " 'oldest',\n",
       " 'theme',\n",
       " 'park',\n",
       " 'in',\n",
       " 'South',\n",
       " 'Korea)[10]',\n",
       " 'and',\n",
       " 'Cheil',\n",
       " 'Worldwide',\n",
       " '(the',\n",
       " \"world's\",\n",
       " '15th',\n",
       " 'largest',\n",
       " 'advertising',\n",
       " 'agency,',\n",
       " 'as',\n",
       " 'measured',\n",
       " 'by',\n",
       " '2012',\n",
       " 'revenues).[11][12]']"
      ]
     },
     "execution_count": 22,
     "metadata": {},
     "output_type": "execute_result"
    }
   ],
   "source": [
    "sw.split(' ')"
   ]
  },
  {
   "cell_type": "code",
   "execution_count": 27,
   "metadata": {},
   "outputs": [
    {
     "data": {
      "text/plain": [
       "\"THE SAMSUNG GROUP[3] (OR SIMPLY SAMSUNG, STYLIZED AS SΛMSUNG) (KOREAN: 삼성 [SAMSɅŊ]) IS A SOUTH KOREAN MULTINATIONAL MANUFACTURING CONGLOMERATE HEADQUARTERED IN SAMSUNG TOWN, SEOUL, SOUTH KOREA.[1] IT COMPRISES NUMEROUS AFFILIATED BUSINESSES,[1] MOST OF THEM UNITED UNDER THE SAMSUNG BRAND, AND IS THE LARGEST SOUTH KOREAN CHAEBOL (BUSINESS CONGLOMERATE). AS OF 2020, SAMSUNG HAS THE 8TH HIGHEST GLOBAL BRAND VALUE.[4]\\n\\nSAMSUNG WAS FOUNDED BY LEE BYUNG-CHUL IN 1938 AS A TRADING COMPANY. OVER THE NEXT THREE DECADES, THE GROUP DIVERSIFIED INTO AREAS INCLUDING FOOD PROCESSING, TEXTILES, INSURANCE, SECURITIES, AND RETAIL. SAMSUNG ENTERED THE ELECTRONICS INDUSTRY IN THE LATE 1960S AND THE CONSTRUCTION AND SHIPBUILDING INDUSTRIES IN THE MID-1970S; THESE AREAS WOULD DRIVE ITS SUBSEQUENT GROWTH. FOLLOWING LEE'S DEATH IN 1987, SAMSUNG WAS SEPARATED INTO FIVE BUSINESS GROUPS – SAMSUNG GROUP, SHINSEGAE GROUP, CJ GROUP AND HANSOL GROUP, AND JOONGANG GROUP.\\n\\nNOTABLE SAMSUNG INDUSTRIAL AFFILIATES INCLUDE SAMSUNG ELECTRONICS (THE WORLD'S LARGEST INFORMATION TECHNOLOGY COMPANY, CONSUMER ELECTRONICS MAKER AND CHIPMAKER MEASURED BY 2017 REVENUES),[5][6] SAMSUNG HEAVY INDUSTRIES (THE WORLD'S 2ND LARGEST SHIPBUILDER MEASURED BY 2010 REVENUES),[7] AND SAMSUNG ENGINEERING AND SAMSUNG C&T CORPORATION (RESPECTIVELY THE WORLD'S 13TH AND 36TH LARGEST CONSTRUCTION COMPANIES).[8] OTHER NOTABLE SUBSIDIARIES INCLUDE SAMSUNG LIFE INSURANCE (THE WORLD'S 14TH LARGEST LIFE INSURANCE COMPANY),[9] SAMSUNG EVERLAND (OPERATOR OF EVERLAND RESORT, THE OLDEST THEME PARK IN SOUTH KOREA)[10] AND CHEIL WORLDWIDE (THE WORLD'S 15TH LARGEST ADVERTISING AGENCY, AS MEASURED BY 2012 REVENUES).[11][12]\""
      ]
     },
     "execution_count": 27,
     "metadata": {},
     "output_type": "execute_result"
    }
   ],
   "source": [
    "sw.upper()"
   ]
  },
  {
   "cell_type": "code",
   "execution_count": 28,
   "metadata": {},
   "outputs": [
    {
     "data": {
      "text/plain": [
       "\"the samsung group[3] (or simply samsung, stylized as sλmsung) (korean: 삼성 [samsʌŋ]) is a south korean multinational manufacturing conglomerate headquartered in samsung town, seoul, south korea.[1] it comprises numerous affiliated businesses,[1] most of them united under the samsung brand, and is the largest south korean chaebol (business conglomerate). as of 2020, samsung has the 8th highest global brand value.[4]\\n\\nsamsung was founded by lee byung-chul in 1938 as a trading company. over the next three decades, the group diversified into areas including food processing, textiles, insurance, securities, and retail. samsung entered the electronics industry in the late 1960s and the construction and shipbuilding industries in the mid-1970s; these areas would drive its subsequent growth. following lee's death in 1987, samsung was separated into five business groups – samsung group, shinsegae group, cj group and hansol group, and joongang group.\\n\\nnotable samsung industrial affiliates include samsung electronics (the world's largest information technology company, consumer electronics maker and chipmaker measured by 2017 revenues),[5][6] samsung heavy industries (the world's 2nd largest shipbuilder measured by 2010 revenues),[7] and samsung engineering and samsung c&t corporation (respectively the world's 13th and 36th largest construction companies).[8] other notable subsidiaries include samsung life insurance (the world's 14th largest life insurance company),[9] samsung everland (operator of everland resort, the oldest theme park in south korea)[10] and cheil worldwide (the world's 15th largest advertising agency, as measured by 2012 revenues).[11][12]\""
      ]
     },
     "execution_count": 28,
     "metadata": {},
     "output_type": "execute_result"
    }
   ],
   "source": [
    "sw.lower()"
   ]
  },
  {
   "cell_type": "code",
   "execution_count": 30,
   "metadata": {},
   "outputs": [
    {
     "data": {
      "text/plain": [
       "\"The Samsung Group[3] (or simply Samsung, stylized as SΛMSUNG) (Korean: 삼성 [samsʌŋ]) is a South Korean multinational manufacturing conglomerate headquartered in Samsung Town, Seoul, South Korea.[1] It comprises numerous affiliated businesses,[1] most of them united under the Samsung brand, and is the largest South Korean chaebol (business conglomerate). As of 2020, Samsung has the 8th highest global brand value.[4]\\n\\nSamsung was founded by Lee Byung-chul in 1938 as a trading company. Over the next three decades, the group diversified into areas including food processing, textiles, insurance, securities, and retail. Samsung entered the electronics industry in the late 1960s and the construction and shipbuilding industries in the mid-1970s; these areas would drive its subsequent growth. Following Lee's death in 1987, Samsung was separated into five business groups – Samsung Group, Shinsegae Group, CJ Group and Hansol Group, and Joongang Group.\\n\\nNotable Samsung industrial affiliates include Samsung Electronics (the world's largest information technology company, consumer electronics maker and chipmaker measured by 2017 revenues),[5][6] Samsung Heavy Industries (the world's 2nd largest shipbuilder measured by 2010 revenues),[7] and Samsung Engineering and Samsung C&T Corporation (respectively the world's 13th and 36th largest construction companies).[8] Other notable subsidiaries include Samsung Life Insurance (the world's 14th largest life insurance company),[9] Samsung Everland (operator of Everland Resort, the oldest theme park in South Korea)[10] and Cheil Worldwide (the world's 15th largest advertising agency, as measured by 2012 revenues).[11][12]\""
      ]
     },
     "execution_count": 30,
     "metadata": {},
     "output_type": "execute_result"
    }
   ],
   "source": [
    "sw"
   ]
  },
  {
   "cell_type": "code",
   "execution_count": 31,
   "metadata": {},
   "outputs": [],
   "source": [
    "sw=sw.upper()"
   ]
  },
  {
   "cell_type": "code",
   "execution_count": 32,
   "metadata": {},
   "outputs": [
    {
     "data": {
      "text/plain": [
       "\"THE SAMSUNG GROUP[3] (OR SIMPLY SAMSUNG, STYLIZED AS SΛMSUNG) (KOREAN: 삼성 [SAMSɅŊ]) IS A SOUTH KOREAN MULTINATIONAL MANUFACTURING CONGLOMERATE HEADQUARTERED IN SAMSUNG TOWN, SEOUL, SOUTH KOREA.[1] IT COMPRISES NUMEROUS AFFILIATED BUSINESSES,[1] MOST OF THEM UNITED UNDER THE SAMSUNG BRAND, AND IS THE LARGEST SOUTH KOREAN CHAEBOL (BUSINESS CONGLOMERATE). AS OF 2020, SAMSUNG HAS THE 8TH HIGHEST GLOBAL BRAND VALUE.[4]\\n\\nSAMSUNG WAS FOUNDED BY LEE BYUNG-CHUL IN 1938 AS A TRADING COMPANY. OVER THE NEXT THREE DECADES, THE GROUP DIVERSIFIED INTO AREAS INCLUDING FOOD PROCESSING, TEXTILES, INSURANCE, SECURITIES, AND RETAIL. SAMSUNG ENTERED THE ELECTRONICS INDUSTRY IN THE LATE 1960S AND THE CONSTRUCTION AND SHIPBUILDING INDUSTRIES IN THE MID-1970S; THESE AREAS WOULD DRIVE ITS SUBSEQUENT GROWTH. FOLLOWING LEE'S DEATH IN 1987, SAMSUNG WAS SEPARATED INTO FIVE BUSINESS GROUPS – SAMSUNG GROUP, SHINSEGAE GROUP, CJ GROUP AND HANSOL GROUP, AND JOONGANG GROUP.\\n\\nNOTABLE SAMSUNG INDUSTRIAL AFFILIATES INCLUDE SAMSUNG ELECTRONICS (THE WORLD'S LARGEST INFORMATION TECHNOLOGY COMPANY, CONSUMER ELECTRONICS MAKER AND CHIPMAKER MEASURED BY 2017 REVENUES),[5][6] SAMSUNG HEAVY INDUSTRIES (THE WORLD'S 2ND LARGEST SHIPBUILDER MEASURED BY 2010 REVENUES),[7] AND SAMSUNG ENGINEERING AND SAMSUNG C&T CORPORATION (RESPECTIVELY THE WORLD'S 13TH AND 36TH LARGEST CONSTRUCTION COMPANIES).[8] OTHER NOTABLE SUBSIDIARIES INCLUDE SAMSUNG LIFE INSURANCE (THE WORLD'S 14TH LARGEST LIFE INSURANCE COMPANY),[9] SAMSUNG EVERLAND (OPERATOR OF EVERLAND RESORT, THE OLDEST THEME PARK IN SOUTH KOREA)[10] AND CHEIL WORLDWIDE (THE WORLD'S 15TH LARGEST ADVERTISING AGENCY, AS MEASURED BY 2012 REVENUES).[11][12]\""
      ]
     },
     "execution_count": 32,
     "metadata": {},
     "output_type": "execute_result"
    }
   ],
   "source": [
    "sw"
   ]
  },
  {
   "cell_type": "code",
   "execution_count": 33,
   "metadata": {},
   "outputs": [
    {
     "data": {
      "text/plain": [
       "\"the samsung group[3] (or simply samsung, stylized as sλmsung) (korean: 삼성 [samsʌŋ]) is a south korean multinational manufacturing conglomerate headquartered in samsung town, seoul, south korea.[1] it comprises numerous affiliated businesses,[1] most of them united under the samsung brand, and is the largest south korean chaebol (business conglomerate). as of 2020, samsung has the 8th highest global brand value.[4]\\n\\nsamsung was founded by lee byung-chul in 1938 as a trading company. over the next three decades, the group diversified into areas including food processing, textiles, insurance, securities, and retail. samsung entered the electronics industry in the late 1960s and the construction and shipbuilding industries in the mid-1970s; these areas would drive its subsequent growth. following lee's death in 1987, samsung was separated into five business groups – samsung group, shinsegae group, cj group and hansol group, and joongang group.\\n\\nnotable samsung industrial affiliates include samsung electronics (the world's largest information technology company, consumer electronics maker and chipmaker measured by 2017 revenues),[5][6] samsung heavy industries (the world's 2nd largest shipbuilder measured by 2010 revenues),[7] and samsung engineering and samsung c&t corporation (respectively the world's 13th and 36th largest construction companies).[8] other notable subsidiaries include samsung life insurance (the world's 14th largest life insurance company),[9] samsung everland (operator of everland resort, the oldest theme park in south korea)[10] and cheil worldwide (the world's 15th largest advertising agency, as measured by 2012 revenues).[11][12]\""
      ]
     },
     "execution_count": 33,
     "metadata": {},
     "output_type": "execute_result"
    }
   ],
   "source": [
    "sw.lower()"
   ]
  },
  {
   "cell_type": "code",
   "execution_count": 34,
   "metadata": {},
   "outputs": [],
   "source": [
    "b=\"Vinay Kumar T K\""
   ]
  },
  {
   "cell_type": "code",
   "execution_count": 35,
   "metadata": {},
   "outputs": [
    {
     "data": {
      "text/plain": [
       "'Vinay Kumar T K'"
      ]
     },
     "execution_count": 35,
     "metadata": {},
     "output_type": "execute_result"
    }
   ],
   "source": [
    "b.title()"
   ]
  },
  {
   "cell_type": "code",
   "execution_count": 39,
   "metadata": {},
   "outputs": [
    {
     "data": {
      "text/plain": [
       "'Vinay kumar t k'"
      ]
     },
     "execution_count": 39,
     "metadata": {},
     "output_type": "execute_result"
    }
   ],
   "source": [
    "b.capitalize()"
   ]
  },
  {
   "cell_type": "code",
   "execution_count": 37,
   "metadata": {},
   "outputs": [
    {
     "data": {
      "text/plain": [
       "\"THE SAMSUNG GROUP[3] (OR SIMPLY SAMSUNG, STYLIZED AS SΛMSUNG) (KOREAN: 삼성 [SAMSɅŊ]) IS A SOUTH KOREAN MULTINATIONAL MANUFACTURING CONGLOMERATE HEADQUARTERED IN SAMSUNG TOWN, SEOUL, SOUTH KOREA.[1] IT COMPRISES NUMEROUS AFFILIATED BUSINESSES,[1] MOST OF THEM UNITED UNDER THE SAMSUNG BRAND, AND IS THE LARGEST SOUTH KOREAN CHAEBOL (BUSINESS CONGLOMERATE). AS OF 2020, SAMSUNG HAS THE 8TH HIGHEST GLOBAL BRAND VALUE.[4]\\n\\nSAMSUNG WAS FOUNDED BY LEE BYUNG-CHUL IN 1938 AS A TRADING COMPANY. OVER THE NEXT THREE DECADES, THE GROUP DIVERSIFIED INTO AREAS INCLUDING FOOD PROCESSING, TEXTILES, INSURANCE, SECURITIES, AND RETAIL. SAMSUNG ENTERED THE ELECTRONICS INDUSTRY IN THE LATE 1960S AND THE CONSTRUCTION AND SHIPBUILDING INDUSTRIES IN THE MID-1970S; THESE AREAS WOULD DRIVE ITS SUBSEQUENT GROWTH. FOLLOWING LEE'S DEATH IN 1987, SAMSUNG WAS SEPARATED INTO FIVE BUSINESS GROUPS – SAMSUNG GROUP, SHINSEGAE GROUP, CJ GROUP AND HANSOL GROUP, AND JOONGANG GROUP.\\n\\nNOTABLE SAMSUNG INDUSTRIAL AFFILIATES INCLUDE SAMSUNG ELECTRONICS (THE WORLD'S LARGEST INFORMATION TECHNOLOGY COMPANY, CONSUMER ELECTRONICS MAKER AND CHIPMAKER MEASURED BY 2017 REVENUES),[5][6] SAMSUNG HEAVY INDUSTRIES (THE WORLD'S 2ND LARGEST SHIPBUILDER MEASURED BY 2010 REVENUES),[7] AND SAMSUNG ENGINEERING AND SAMSUNG C&T CORPORATION (RESPECTIVELY THE WORLD'S 13TH AND 36TH LARGEST CONSTRUCTION COMPANIES).[8] OTHER NOTABLE SUBSIDIARIES INCLUDE SAMSUNG LIFE INSURANCE (THE WORLD'S 14TH LARGEST LIFE INSURANCE COMPANY),[9] SAMSUNG EVERLAND (OPERATOR OF EVERLAND RESORT, THE OLDEST THEME PARK IN SOUTH KOREA)[10] AND CHEIL WORLDWIDE (THE WORLD'S 15TH LARGEST ADVERTISING AGENCY, AS MEASURED BY 2012 REVENUES).[11][12]\""
      ]
     },
     "execution_count": 37,
     "metadata": {},
     "output_type": "execute_result"
    }
   ],
   "source": [
    "sw"
   ]
  },
  {
   "cell_type": "code",
   "execution_count": 40,
   "metadata": {},
   "outputs": [
    {
     "data": {
      "text/plain": [
       "\"The Samsung Group[3] (Or Simply Samsung, Stylized As Sλmsung) (Korean: 삼성 [Samsʌŋ]) Is A South Korean Multinational Manufacturing Conglomerate Headquartered In Samsung Town, Seoul, South Korea.[1] It Comprises Numerous Affiliated Businesses,[1] Most Of Them United Under The Samsung Brand, And Is The Largest South Korean Chaebol (Business Conglomerate). As Of 2020, Samsung Has The 8Th Highest Global Brand Value.[4]\\n\\nSamsung Was Founded By Lee Byung-Chul In 1938 As A Trading Company. Over The Next Three Decades, The Group Diversified Into Areas Including Food Processing, Textiles, Insurance, Securities, And Retail. Samsung Entered The Electronics Industry In The Late 1960S And The Construction And Shipbuilding Industries In The Mid-1970S; These Areas Would Drive Its Subsequent Growth. Following Lee'S Death In 1987, Samsung Was Separated Into Five Business Groups – Samsung Group, Shinsegae Group, Cj Group And Hansol Group, And Joongang Group.\\n\\nNotable Samsung Industrial Affiliates Include Samsung Electronics (The World'S Largest Information Technology Company, Consumer Electronics Maker And Chipmaker Measured By 2017 Revenues),[5][6] Samsung Heavy Industries (The World'S 2Nd Largest Shipbuilder Measured By 2010 Revenues),[7] And Samsung Engineering And Samsung C&T Corporation (Respectively The World'S 13Th And 36Th Largest Construction Companies).[8] Other Notable Subsidiaries Include Samsung Life Insurance (The World'S 14Th Largest Life Insurance Company),[9] Samsung Everland (Operator Of Everland Resort, The Oldest Theme Park In South Korea)[10] And Cheil Worldwide (The World'S 15Th Largest Advertising Agency, As Measured By 2012 Revenues).[11][12]\""
      ]
     },
     "execution_count": 40,
     "metadata": {},
     "output_type": "execute_result"
    }
   ],
   "source": [
    "sw.title()"
   ]
  },
  {
   "cell_type": "code",
   "execution_count": 41,
   "metadata": {},
   "outputs": [
    {
     "data": {
      "text/plain": [
       "\"The samsung group[3] (or simply samsung, stylized as sλmsung) (korean: 삼성 [samsʌŋ]) is a south korean multinational manufacturing conglomerate headquartered in samsung town, seoul, south korea.[1] it comprises numerous affiliated businesses,[1] most of them united under the samsung brand, and is the largest south korean chaebol (business conglomerate). as of 2020, samsung has the 8th highest global brand value.[4]\\n\\nsamsung was founded by lee byung-chul in 1938 as a trading company. over the next three decades, the group diversified into areas including food processing, textiles, insurance, securities, and retail. samsung entered the electronics industry in the late 1960s and the construction and shipbuilding industries in the mid-1970s; these areas would drive its subsequent growth. following lee's death in 1987, samsung was separated into five business groups – samsung group, shinsegae group, cj group and hansol group, and joongang group.\\n\\nnotable samsung industrial affiliates include samsung electronics (the world's largest information technology company, consumer electronics maker and chipmaker measured by 2017 revenues),[5][6] samsung heavy industries (the world's 2nd largest shipbuilder measured by 2010 revenues),[7] and samsung engineering and samsung c&t corporation (respectively the world's 13th and 36th largest construction companies).[8] other notable subsidiaries include samsung life insurance (the world's 14th largest life insurance company),[9] samsung everland (operator of everland resort, the oldest theme park in south korea)[10] and cheil worldwide (the world's 15th largest advertising agency, as measured by 2012 revenues).[11][12]\""
      ]
     },
     "execution_count": 41,
     "metadata": {},
     "output_type": "execute_result"
    }
   ],
   "source": [
    "sw.capitalize()"
   ]
  },
  {
   "cell_type": "code",
   "execution_count": 42,
   "metadata": {},
   "outputs": [
    {
     "data": {
      "text/plain": [
       "'vINAY kUMAR t k'"
      ]
     },
     "execution_count": 42,
     "metadata": {},
     "output_type": "execute_result"
    }
   ],
   "source": [
    "b.swapcase()"
   ]
  },
  {
   "cell_type": "code",
   "execution_count": 46,
   "metadata": {},
   "outputs": [
    {
     "data": {
      "text/plain": [
       "'K T ramuK yaniV'"
      ]
     },
     "execution_count": 46,
     "metadata": {},
     "output_type": "execute_result"
    }
   ],
   "source": [
    "''.join(reversed(b))"
   ]
  },
  {
   "cell_type": "code",
   "execution_count": 55,
   "metadata": {},
   "outputs": [
    {
     "data": {
      "text/plain": [
       "'Sangeetha'"
      ]
     },
     "execution_count": 55,
     "metadata": {},
     "output_type": "execute_result"
    }
   ],
   "source": [
    "c"
   ]
  },
  {
   "cell_type": "code",
   "execution_count": 56,
   "metadata": {},
   "outputs": [
    {
     "data": {
      "text/plain": [
       "'ahteegnaS'"
      ]
     },
     "execution_count": 56,
     "metadata": {},
     "output_type": "execute_result"
    }
   ],
   "source": [
    "\"\".join(reversed(c))"
   ]
  },
  {
   "cell_type": "code",
   "execution_count": 57,
   "metadata": {},
   "outputs": [
    {
     "data": {
      "text/plain": [
       "'ahteegnaS'"
      ]
     },
     "execution_count": 57,
     "metadata": {},
     "output_type": "execute_result"
    }
   ],
   "source": [
    "c[::-1]"
   ]
  },
  {
   "cell_type": "code",
   "execution_count": 60,
   "metadata": {},
   "outputs": [
    {
     "data": {
      "text/plain": [
       "'Vinay Kumar T K'"
      ]
     },
     "execution_count": 60,
     "metadata": {},
     "output_type": "execute_result"
    }
   ],
   "source": [
    "b.strip()"
   ]
  },
  {
   "cell_type": "code",
   "execution_count": 61,
   "metadata": {},
   "outputs": [
    {
     "data": {
      "text/plain": [
       "'Vinay Kumar T K'"
      ]
     },
     "execution_count": 61,
     "metadata": {},
     "output_type": "execute_result"
    }
   ],
   "source": [
    "b.lstrip()"
   ]
  },
  {
   "cell_type": "code",
   "execution_count": 111,
   "metadata": {},
   "outputs": [],
   "source": [
    "b25=\"    Vi   nay \""
   ]
  },
  {
   "cell_type": "code",
   "execution_count": 112,
   "metadata": {},
   "outputs": [
    {
     "data": {
      "text/plain": [
       "'Vinay'"
      ]
     },
     "execution_count": 112,
     "metadata": {},
     "output_type": "execute_result"
    }
   ],
   "source": [
    "b.strip()"
   ]
  },
  {
   "cell_type": "code",
   "execution_count": 113,
   "metadata": {},
   "outputs": [
    {
     "data": {
      "text/plain": [
       "'Vinay'"
      ]
     },
     "execution_count": 113,
     "metadata": {},
     "output_type": "execute_result"
    }
   ],
   "source": [
    "b.lstrip()"
   ]
  },
  {
   "cell_type": "code",
   "execution_count": 114,
   "metadata": {},
   "outputs": [
    {
     "data": {
      "text/plain": [
       "'Vinay'"
      ]
     },
     "execution_count": 114,
     "metadata": {},
     "output_type": "execute_result"
    }
   ],
   "source": [
    "b.rstrip()"
   ]
  },
  {
   "cell_type": "code",
   "execution_count": 115,
   "metadata": {},
   "outputs": [
    {
     "data": {
      "text/plain": [
       "'V    i    n    a    y    K    u    m    a    r    T    K'"
      ]
     },
     "execution_count": 115,
     "metadata": {},
     "output_type": "execute_result"
    }
   ],
   "source": [
    "\"    \".join(\"VinayKumarTK\")"
   ]
  },
  {
   "cell_type": "code",
   "execution_count": 116,
   "metadata": {},
   "outputs": [
    {
     "data": {
      "text/plain": [
       "'VSangeethaiSangeethanSangeethaaSangeethaySangeethakSangeethauSangeethamSangeethaaSangeetharSangeethaTSangeethaK'"
      ]
     },
     "execution_count": 116,
     "metadata": {},
     "output_type": "execute_result"
    }
   ],
   "source": [
    "\"Sangeetha\".join(\"VinaykumarTK\")"
   ]
  },
  {
   "cell_type": "code",
   "execution_count": 117,
   "metadata": {},
   "outputs": [],
   "source": [
    "b=\"Vinay\""
   ]
  },
  {
   "cell_type": "code",
   "execution_count": 118,
   "metadata": {},
   "outputs": [
    {
     "data": {
      "text/plain": [
       "'SSSSSVinaySSSSS'"
      ]
     },
     "execution_count": 118,
     "metadata": {},
     "output_type": "execute_result"
    }
   ],
   "source": [
    "b.center(15,'S')"
   ]
  },
  {
   "cell_type": "code",
   "execution_count": 119,
   "metadata": {},
   "outputs": [
    {
     "data": {
      "text/plain": [
       "False"
      ]
     },
     "execution_count": 119,
     "metadata": {},
     "output_type": "execute_result"
    }
   ],
   "source": [
    "b.isupper()"
   ]
  },
  {
   "cell_type": "code",
   "execution_count": 120,
   "metadata": {},
   "outputs": [
    {
     "data": {
      "text/plain": [
       "False"
      ]
     },
     "execution_count": 120,
     "metadata": {},
     "output_type": "execute_result"
    }
   ],
   "source": [
    "b.islower()"
   ]
  },
  {
   "cell_type": "code",
   "execution_count": 121,
   "metadata": {},
   "outputs": [],
   "source": [
    "b1=\"VINAY KUMAR T K\""
   ]
  },
  {
   "cell_type": "code",
   "execution_count": 122,
   "metadata": {},
   "outputs": [
    {
     "data": {
      "text/plain": [
       "True"
      ]
     },
     "execution_count": 122,
     "metadata": {},
     "output_type": "execute_result"
    }
   ],
   "source": [
    "b1.isupper()"
   ]
  },
  {
   "cell_type": "code",
   "execution_count": 123,
   "metadata": {},
   "outputs": [
    {
     "data": {
      "text/plain": [
       "False"
      ]
     },
     "execution_count": 123,
     "metadata": {},
     "output_type": "execute_result"
    }
   ],
   "source": [
    "b1.islower()"
   ]
  },
  {
   "cell_type": "code",
   "execution_count": 124,
   "metadata": {},
   "outputs": [],
   "source": [
    "b2=\"vinay kumar t k\""
   ]
  },
  {
   "cell_type": "code",
   "execution_count": 125,
   "metadata": {},
   "outputs": [
    {
     "data": {
      "text/plain": [
       "True"
      ]
     },
     "execution_count": 125,
     "metadata": {},
     "output_type": "execute_result"
    }
   ],
   "source": [
    "b2.islower()"
   ]
  },
  {
   "cell_type": "code",
   "execution_count": 126,
   "metadata": {},
   "outputs": [
    {
     "data": {
      "text/plain": [
       "<function str.isspace()>"
      ]
     },
     "execution_count": 126,
     "metadata": {},
     "output_type": "execute_result"
    }
   ],
   "source": [
    "b2.isspace"
   ]
  },
  {
   "cell_type": "code",
   "execution_count": 127,
   "metadata": {},
   "outputs": [],
   "source": [
    "b4=\"     \""
   ]
  },
  {
   "cell_type": "code",
   "execution_count": 128,
   "metadata": {},
   "outputs": [
    {
     "data": {
      "text/plain": [
       "True"
      ]
     },
     "execution_count": 128,
     "metadata": {},
     "output_type": "execute_result"
    }
   ],
   "source": [
    "b4.isspace()"
   ]
  },
  {
   "cell_type": "code",
   "execution_count": 129,
   "metadata": {},
   "outputs": [],
   "source": [
    "b5=\"1654654\""
   ]
  },
  {
   "cell_type": "code",
   "execution_count": 130,
   "metadata": {},
   "outputs": [
    {
     "data": {
      "text/plain": [
       "True"
      ]
     },
     "execution_count": 130,
     "metadata": {},
     "output_type": "execute_result"
    }
   ],
   "source": [
    "b5.isdigit()"
   ]
  },
  {
   "cell_type": "code",
   "execution_count": 131,
   "metadata": {},
   "outputs": [],
   "source": [
    "b6=\"Vinay325\""
   ]
  },
  {
   "cell_type": "code",
   "execution_count": 132,
   "metadata": {},
   "outputs": [
    {
     "data": {
      "text/plain": [
       "True"
      ]
     },
     "execution_count": 132,
     "metadata": {},
     "output_type": "execute_result"
    }
   ],
   "source": [
    "b6.isalnum()"
   ]
  },
  {
   "cell_type": "code",
   "execution_count": 133,
   "metadata": {},
   "outputs": [
    {
     "data": {
      "text/plain": [
       "True"
      ]
     },
     "execution_count": 133,
     "metadata": {},
     "output_type": "execute_result"
    }
   ],
   "source": [
    "b.isalpha()"
   ]
  },
  {
   "cell_type": "code",
   "execution_count": 134,
   "metadata": {},
   "outputs": [],
   "source": [
    "b7=\"5456464Vinu\""
   ]
  },
  {
   "cell_type": "code",
   "execution_count": 135,
   "metadata": {},
   "outputs": [
    {
     "data": {
      "text/plain": [
       "False"
      ]
     },
     "execution_count": 135,
     "metadata": {},
     "output_type": "execute_result"
    }
   ],
   "source": [
    "b7.isalpha()"
   ]
  },
  {
   "cell_type": "code",
   "execution_count": 136,
   "metadata": {},
   "outputs": [
    {
     "data": {
      "text/plain": [
       "False"
      ]
     },
     "execution_count": 136,
     "metadata": {},
     "output_type": "execute_result"
    }
   ],
   "source": [
    "b.startswith('i')"
   ]
  },
  {
   "cell_type": "code",
   "execution_count": 137,
   "metadata": {},
   "outputs": [
    {
     "data": {
      "text/plain": [
       "True"
      ]
     },
     "execution_count": 137,
     "metadata": {},
     "output_type": "execute_result"
    }
   ],
   "source": [
    "b.startswith('V')"
   ]
  },
  {
   "cell_type": "code",
   "execution_count": 138,
   "metadata": {},
   "outputs": [
    {
     "data": {
      "text/plain": [
       "'Vinay'"
      ]
     },
     "execution_count": 138,
     "metadata": {},
     "output_type": "execute_result"
    }
   ],
   "source": [
    "b"
   ]
  },
  {
   "cell_type": "code",
   "execution_count": 140,
   "metadata": {},
   "outputs": [
    {
     "data": {
      "text/plain": [
       "True"
      ]
     },
     "execution_count": 140,
     "metadata": {},
     "output_type": "execute_result"
    }
   ],
   "source": [
    "from tkinter import Y\n",
    "\n",
    "\n",
    "b.endswith(\"y\")"
   ]
  },
  {
   "cell_type": "code",
   "execution_count": 141,
   "metadata": {},
   "outputs": [
    {
     "data": {
      "text/plain": [
       "'Vinay325'"
      ]
     },
     "execution_count": 141,
     "metadata": {},
     "output_type": "execute_result"
    }
   ],
   "source": [
    "b6"
   ]
  },
  {
   "cell_type": "code",
   "execution_count": 142,
   "metadata": {},
   "outputs": [
    {
     "data": {
      "text/plain": [
       "'5456464Vinu'"
      ]
     },
     "execution_count": 142,
     "metadata": {},
     "output_type": "execute_result"
    }
   ],
   "source": [
    "b7"
   ]
  },
  {
   "cell_type": "code",
   "execution_count": 143,
   "metadata": {},
   "outputs": [
    {
     "data": {
      "text/plain": [
       "False"
      ]
     },
     "execution_count": 143,
     "metadata": {},
     "output_type": "execute_result"
    }
   ],
   "source": [
    "b.isdigit()"
   ]
  },
  {
   "cell_type": "code",
   "execution_count": 144,
   "metadata": {},
   "outputs": [
    {
     "data": {
      "text/plain": [
       "False"
      ]
     },
     "execution_count": 144,
     "metadata": {},
     "output_type": "execute_result"
    }
   ],
   "source": [
    "b.isnumeric()"
   ]
  },
  {
   "cell_type": "code",
   "execution_count": 145,
   "metadata": {},
   "outputs": [
    {
     "data": {
      "text/plain": [
       "True"
      ]
     },
     "execution_count": 145,
     "metadata": {},
     "output_type": "execute_result"
    }
   ],
   "source": [
    "b.startswith(\"\")"
   ]
  },
  {
   "cell_type": "code",
   "execution_count": 146,
   "metadata": {},
   "outputs": [
    {
     "data": {
      "text/plain": [
       "False"
      ]
     },
     "execution_count": 146,
     "metadata": {},
     "output_type": "execute_result"
    }
   ],
   "source": [
    "b.startswith(\"   \")"
   ]
  },
  {
   "cell_type": "code",
   "execution_count": 147,
   "metadata": {},
   "outputs": [
    {
     "data": {
      "text/plain": [
       "True"
      ]
     },
     "execution_count": 147,
     "metadata": {},
     "output_type": "execute_result"
    }
   ],
   "source": [
    "b.isascii()"
   ]
  },
  {
   "cell_type": "code",
   "execution_count": 148,
   "metadata": {},
   "outputs": [
    {
     "data": {
      "text/plain": [
       "True"
      ]
     },
     "execution_count": 148,
     "metadata": {},
     "output_type": "execute_result"
    }
   ],
   "source": [
    "b.isalnum()"
   ]
  },
  {
   "cell_type": "code",
   "execution_count": 149,
   "metadata": {},
   "outputs": [],
   "source": [
    "d=\"555 Vinay\""
   ]
  },
  {
   "cell_type": "code",
   "execution_count": 150,
   "metadata": {},
   "outputs": [
    {
     "data": {
      "text/plain": [
       "'@@@@@@@@555 Vinay@@@@@@@@'"
      ]
     },
     "execution_count": 150,
     "metadata": {},
     "output_type": "execute_result"
    }
   ],
   "source": [
    "d.center(25,'@')"
   ]
  },
  {
   "cell_type": "code",
   "execution_count": 151,
   "metadata": {},
   "outputs": [],
   "source": [
    "e=\"Vinay is a structural engineer\""
   ]
  },
  {
   "cell_type": "code",
   "execution_count": 152,
   "metadata": {},
   "outputs": [
    {
     "data": {
      "text/plain": [
       "False"
      ]
     },
     "execution_count": 152,
     "metadata": {},
     "output_type": "execute_result"
    }
   ],
   "source": [
    "e.isspace()"
   ]
  },
  {
   "cell_type": "code",
   "execution_count": 157,
   "metadata": {},
   "outputs": [],
   "source": [
    "f=\"    5 \""
   ]
  },
  {
   "cell_type": "code",
   "execution_count": 158,
   "metadata": {},
   "outputs": [
    {
     "data": {
      "text/plain": [
       "False"
      ]
     },
     "execution_count": 158,
     "metadata": {},
     "output_type": "execute_result"
    }
   ],
   "source": [
    "f.isspace()"
   ]
  },
  {
   "cell_type": "code",
   "execution_count": 159,
   "metadata": {},
   "outputs": [],
   "source": [
    "f1=\"546456\""
   ]
  },
  {
   "cell_type": "code",
   "execution_count": 161,
   "metadata": {},
   "outputs": [
    {
     "data": {
      "text/plain": [
       "True"
      ]
     },
     "execution_count": 161,
     "metadata": {},
     "output_type": "execute_result"
    }
   ],
   "source": [
    "f1.isnumeric()"
   ]
  },
  {
   "cell_type": "code",
   "execution_count": 162,
   "metadata": {},
   "outputs": [],
   "source": [
    "f2=\"464 56654 55634\""
   ]
  },
  {
   "cell_type": "code",
   "execution_count": 163,
   "metadata": {},
   "outputs": [
    {
     "data": {
      "text/plain": [
       "False"
      ]
     },
     "execution_count": 163,
     "metadata": {},
     "output_type": "execute_result"
    }
   ],
   "source": [
    "f2.isnumeric()"
   ]
  },
  {
   "cell_type": "code",
   "execution_count": 164,
   "metadata": {},
   "outputs": [],
   "source": [
    "f3=\"46526Vinay\""
   ]
  },
  {
   "cell_type": "code",
   "execution_count": 167,
   "metadata": {},
   "outputs": [
    {
     "data": {
      "text/plain": [
       "False"
      ]
     },
     "execution_count": 167,
     "metadata": {},
     "output_type": "execute_result"
    }
   ],
   "source": [
    "f3.isalpha()"
   ]
  },
  {
   "cell_type": "code",
   "execution_count": 168,
   "metadata": {},
   "outputs": [
    {
     "data": {
      "text/plain": [
       "True"
      ]
     },
     "execution_count": 168,
     "metadata": {},
     "output_type": "execute_result"
    }
   ],
   "source": [
    "f3.isalnum()"
   ]
  },
  {
   "cell_type": "code",
   "execution_count": 170,
   "metadata": {},
   "outputs": [
    {
     "data": {
      "text/plain": [
       "False"
      ]
     },
     "execution_count": 170,
     "metadata": {},
     "output_type": "execute_result"
    }
   ],
   "source": [
    "f3.isnumeric()"
   ]
  },
  {
   "cell_type": "code",
   "execution_count": 171,
   "metadata": {},
   "outputs": [
    {
     "data": {
      "text/plain": [
       "'yaniV62564'"
      ]
     },
     "execution_count": 171,
     "metadata": {},
     "output_type": "execute_result"
    }
   ],
   "source": [
    "\"\".join(reversed(f3))"
   ]
  },
  {
   "cell_type": "code",
   "execution_count": 172,
   "metadata": {},
   "outputs": [
    {
     "data": {
      "text/plain": [
       "'Vsvisvnsvasvy'"
      ]
     },
     "execution_count": 172,
     "metadata": {},
     "output_type": "execute_result"
    }
   ],
   "source": [
    "\n",
    "'sv'.join(\"Vinay\")"
   ]
  },
  {
   "cell_type": "code",
   "execution_count": 173,
   "metadata": {},
   "outputs": [],
   "source": [
    "f5=\"45645364.45646\""
   ]
  },
  {
   "cell_type": "code",
   "execution_count": 174,
   "metadata": {},
   "outputs": [
    {
     "data": {
      "text/plain": [
       "False"
      ]
     },
     "execution_count": 174,
     "metadata": {},
     "output_type": "execute_result"
    }
   ],
   "source": [
    "f5.isnumeric()"
   ]
  },
  {
   "cell_type": "code",
   "execution_count": 175,
   "metadata": {},
   "outputs": [
    {
     "data": {
      "text/plain": [
       "False"
      ]
     },
     "execution_count": 175,
     "metadata": {},
     "output_type": "execute_result"
    }
   ],
   "source": [
    "f5.isdigit()"
   ]
  },
  {
   "cell_type": "code",
   "execution_count": 179,
   "metadata": {},
   "outputs": [],
   "source": [
    "f6='Vinay\\tKumar\\tTK'"
   ]
  },
  {
   "cell_type": "code",
   "execution_count": 180,
   "metadata": {},
   "outputs": [
    {
     "data": {
      "text/plain": [
       "'Vinay   Kumar   TK'"
      ]
     },
     "execution_count": 180,
     "metadata": {},
     "output_type": "execute_result"
    }
   ],
   "source": [
    "f6.expandtabs()"
   ]
  },
  {
   "cell_type": "code",
   "execution_count": 181,
   "metadata": {},
   "outputs": [
    {
     "data": {
      "text/plain": [
       "'Vinay   Kumar   TK'"
      ]
     },
     "execution_count": 181,
     "metadata": {},
     "output_type": "execute_result"
    }
   ],
   "source": [
    "f6.expandtabs()"
   ]
  },
  {
   "cell_type": "code",
   "execution_count": 182,
   "metadata": {},
   "outputs": [],
   "source": [
    "g=\"this is My First Python programming class and i am learNING python string and its function\""
   ]
  },
  {
   "cell_type": "code",
   "execution_count": 183,
   "metadata": {},
   "outputs": [
    {
     "ename": "SyntaxError",
     "evalue": "invalid syntax (1063162120.py, line 1)",
     "output_type": "error",
     "traceback": [
      "\u001b[1;36m  Input \u001b[1;32mIn [183]\u001b[1;36m\u001b[0m\n\u001b[1;33m    1. Try to extract data from index one to 300 with a jump of 3\u001b[0m\n\u001b[1;37m       ^\u001b[0m\n\u001b[1;31mSyntaxError\u001b[0m\u001b[1;31m:\u001b[0m invalid syntax\n"
     ]
    }
   ],
   "source": [
    "1. Try to extract data from index one to 300 with a jump of 3\n",
    "2. Try to reverse a string without using reverse function\n",
    "3. Try to split a string after conversion of entire string in uppercase\n",
    "4. Try to convert the whole string into lower case \n",
    "5. Try to capitalize the whole string\n",
    "6. Write a difference between isalnum and isalpha\n",
    "7. try to give an Example of expand tab\n",
    "8. Give an example of strip, lstrip and rstrip \n",
    "9. Replace a string character by another charector by taking your own Example\n",
    "10. Try to give a defination of string center function with an Example\n",
    "11. Write your own definition of compiler ands interpretor without copy paste from internet in you\n",
    "12. Python is a interpretend of compiled language give a clear ans with your understanding\n",
    "13. Try to write a usecase of python with your understanding.\n"
   ]
  },
  {
   "cell_type": "code",
   "execution_count": 186,
   "metadata": {},
   "outputs": [
    {
     "data": {
      "text/plain": [
       "'h   r tnrrmglsnimeNGyosi dtfco'"
      ]
     },
     "execution_count": 186,
     "metadata": {},
     "output_type": "execute_result"
    }
   ],
   "source": [
    " g[1:300:3]"
   ]
  },
  {
   "cell_type": "code",
   "execution_count": 187,
   "metadata": {},
   "outputs": [
    {
     "data": {
      "text/plain": [
       "'noitcnuf sti dna gnirts nohtyp GNINrael ma i dna ssalc gnimmargorp nohtyP tsriF yM si siht'"
      ]
     },
     "execution_count": 187,
     "metadata": {},
     "output_type": "execute_result"
    }
   ],
   "source": [
    "''.join(reversed(g))"
   ]
  },
  {
   "cell_type": "code",
   "execution_count": 218,
   "metadata": {},
   "outputs": [
    {
     "data": {
      "text/plain": [
       "'THIS IS MY FIRST PYTHON PROGRAMMING CLASS AND I AM LEARNING PYTHON STRING AND ITS FUNCTION'"
      ]
     },
     "execution_count": 218,
     "metadata": {},
     "output_type": "execute_result"
    }
   ],
   "source": [
    "g.upper()"
   ]
  },
  {
   "cell_type": "code",
   "execution_count": 220,
   "metadata": {},
   "outputs": [
    {
     "data": {
      "text/plain": [
       "['thi',\n",
       " ' i',\n",
       " ' My Fir',\n",
       " 't Python programming cla',\n",
       " '',\n",
       " ' and i am learNING python ',\n",
       " 'tring and it',\n",
       " ' function']"
      ]
     },
     "execution_count": 220,
     "metadata": {},
     "output_type": "execute_result"
    }
   ],
   "source": [
    "g.split('s')"
   ]
  },
  {
   "cell_type": "code",
   "execution_count": 221,
   "metadata": {},
   "outputs": [
    {
     "data": {
      "text/plain": [
       "'this is my first python programming class and i am learning python string and its function'"
      ]
     },
     "execution_count": 221,
     "metadata": {},
     "output_type": "execute_result"
    }
   ],
   "source": [
    "g.lower()"
   ]
  },
  {
   "cell_type": "code",
   "execution_count": 222,
   "metadata": {},
   "outputs": [
    {
     "data": {
      "text/plain": [
       "'This is my first python programming class and i am learning python string and its function'"
      ]
     },
     "execution_count": 222,
     "metadata": {},
     "output_type": "execute_result"
    }
   ],
   "source": [
    "g.capitalize()"
   ]
  },
  {
   "cell_type": "code",
   "execution_count": 223,
   "metadata": {},
   "outputs": [],
   "source": [
    "h=\"Vina257656\""
   ]
  },
  {
   "cell_type": "code",
   "execution_count": 224,
   "metadata": {},
   "outputs": [
    {
     "data": {
      "text/plain": [
       "True"
      ]
     },
     "execution_count": 224,
     "metadata": {},
     "output_type": "execute_result"
    }
   ],
   "source": [
    "h.isalnum()"
   ]
  },
  {
   "cell_type": "code",
   "execution_count": 225,
   "metadata": {},
   "outputs": [],
   "source": [
    "i=\"Vinay\""
   ]
  },
  {
   "cell_type": "code",
   "execution_count": 226,
   "metadata": {},
   "outputs": [
    {
     "data": {
      "text/plain": [
       "True"
      ]
     },
     "execution_count": 226,
     "metadata": {},
     "output_type": "execute_result"
    }
   ],
   "source": [
    "i.isalpha()"
   ]
  },
  {
   "cell_type": "code",
   "execution_count": 227,
   "metadata": {},
   "outputs": [],
   "source": [
    "j=\"Sangeetha\\tV\\tVinay\\tKumar\\t\""
   ]
  },
  {
   "cell_type": "code",
   "execution_count": 228,
   "metadata": {},
   "outputs": [
    {
     "data": {
      "text/plain": [
       "'Sangeetha       V       Vinay   Kumar   '"
      ]
     },
     "execution_count": 228,
     "metadata": {},
     "output_type": "execute_result"
    }
   ],
   "source": [
    "j.expandtabs()"
   ]
  },
  {
   "cell_type": "code",
   "execution_count": 229,
   "metadata": {},
   "outputs": [],
   "source": [
    "k=\"  Vinay Kumar Sangeetha     \""
   ]
  },
  {
   "cell_type": "code",
   "execution_count": 230,
   "metadata": {},
   "outputs": [
    {
     "data": {
      "text/plain": [
       "'  Vinay Kumar Sangeetha'"
      ]
     },
     "execution_count": 230,
     "metadata": {},
     "output_type": "execute_result"
    }
   ],
   "source": [
    "k.rstrip()"
   ]
  },
  {
   "cell_type": "code",
   "execution_count": 231,
   "metadata": {},
   "outputs": [
    {
     "data": {
      "text/plain": [
       "'Vinay Kumar Sangeetha     '"
      ]
     },
     "execution_count": 231,
     "metadata": {},
     "output_type": "execute_result"
    }
   ],
   "source": [
    "k.lstrip()"
   ]
  },
  {
   "cell_type": "code",
   "execution_count": 232,
   "metadata": {},
   "outputs": [
    {
     "data": {
      "text/plain": [
       "'Vinay Kumar Sangeetha'"
      ]
     },
     "execution_count": 232,
     "metadata": {},
     "output_type": "execute_result"
    }
   ],
   "source": [
    "k.strip()"
   ]
  },
  {
   "cell_type": "code",
   "execution_count": 233,
   "metadata": {},
   "outputs": [
    {
     "data": {
      "text/plain": [
       "' V VVViVnVaVyV VKVuVmVaVrV VSVaVnVgVeVeVtVhVaV V V V V '"
      ]
     },
     "execution_count": 233,
     "metadata": {},
     "output_type": "execute_result"
    }
   ],
   "source": [
    "'V'.join(k)"
   ]
  },
  {
   "cell_type": "code",
   "execution_count": 236,
   "metadata": {},
   "outputs": [
    {
     "data": {
      "text/plain": [
       "'@@@@@@@@@@@@@@@@@@@@@@@@@@@@@@@@@@@@@@@@@@@@@@@@@@@@@@@@@@@@@@@@@@@@@@@@@@@@@@@@@@@@@@@@@@@@@@@@@@@@@@@@@@@@@@@@@@@@@@@@@@@@@@@@@@@@@@@@@@@@@@@@@@@@@@@@@@@@@@@@@@@@@@@@@@@@@@@@@@@@@@@@@@@@@@@@@@@@@@@@@@@@@@@@@@@@@@@@@@@@@@@@@@@@@@@@@@@@@@@@@@@@@@@@@@@@@@@@@@@@@@@@@@@@@@@@@@@@@@@@@@@@@@@@@@@@@@@@@@@@@@@@@@@@@@@@@@@@@@@@@@@@@@@@@@this is My First Python programming class and i am learNING python string and its function@@@@@@@@@@@@@@@@@@@@@@@@@@@@@@@@@@@@@@@@@@@@@@@@@@@@@@@@@@@@@@@@@@@@@@@@@@@@@@@@@@@@@@@@@@@@@@@@@@@@@@@@@@@@@@@@@@@@@@@@@@@@@@@@@@@@@@@@@@@@@@@@@@@@@@@@@@@@@@@@@@@@@@@@@@@@@@@@@@@@@@@@@@@@@@@@@@@@@@@@@@@@@@@@@@@@@@@@@@@@@@@@@@@@@@@@@@@@@@@@@@@@@@@@@@@@@@@@@@@@@@@@@@@@@@@@@@@@@@@@@@@@@@@@@@@@@@@@@@@@@@@@@@@@@@@@@@@@@@@@@@@@@@@@@@'"
      ]
     },
     "execution_count": 236,
     "metadata": {},
     "output_type": "execute_result"
    }
   ],
   "source": [
    "g.center(750,'@')"
   ]
  },
  {
   "cell_type": "code",
   "execution_count": 237,
   "metadata": {},
   "outputs": [
    {
     "ename": "SyntaxError",
     "evalue": "invalid syntax (82573767.py, line 1)",
     "output_type": "error",
     "traceback": [
      "\u001b[1;36m  Input \u001b[1;32mIn [237]\u001b[1;36m\u001b[0m\n\u001b[1;33m    13. System Programming, Web Scrapping, Data/Data Science, IOT(Internet of Things), Gaming Development, Web Development, Image processing, Manage Data Bases(MagoDB,SQL...etc), Robotics, Automation, System Security Services\u001b[0m\n\u001b[1;37m        ^\u001b[0m\n\u001b[1;31mSyntaxError\u001b[0m\u001b[1;31m:\u001b[0m invalid syntax\n"
     ]
    }
   ],
   "source": [
    "13. System Programming, Web Scrapping, Data/Data Science, IOT(Internet of Things), Gaming Development, Web Development, Image processing, Manage Data Bases(MagoDB,SQL...etc), Robotics, Automation, System Security Services"
   ]
  },
  {
   "cell_type": "code",
   "execution_count": null,
   "metadata": {},
   "outputs": [],
   "source": []
  }
 ],
 "metadata": {
  "kernelspec": {
   "display_name": "Python 3.9.12 ('base')",
   "language": "python",
   "name": "python3"
  },
  "language_info": {
   "codemirror_mode": {
    "name": "ipython",
    "version": 3
   },
   "file_extension": ".py",
   "mimetype": "text/x-python",
   "name": "python",
   "nbconvert_exporter": "python",
   "pygments_lexer": "ipython3",
   "version": "3.9.12"
  },
  "orig_nbformat": 4,
  "vscode": {
   "interpreter": {
    "hash": "2043299c89c8cd0b4d1a6f5cf4529bd58e6a4e0fe3181a25e0d328c821cdc5c5"
   }
  }
 },
 "nbformat": 4,
 "nbformat_minor": 2
}
